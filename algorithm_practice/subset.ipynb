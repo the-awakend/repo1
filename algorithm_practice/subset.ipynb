{
 "cells": [
  {
   "cell_type": "code",
   "execution_count": 32,
   "metadata": {},
   "outputs": [
    {
     "name": "stdout",
     "output_type": "stream",
     "text": [
      "{}\n",
      "{1 ,}\n",
      "{2 ,}\n",
      "{1 ,2 ,}\n",
      "{3 ,}\n",
      "{1 ,3 ,}\n",
      "{2 ,3 ,}\n",
      "{1 ,2 ,3 ,}\n",
      "{4 ,}\n",
      "{1 ,4 ,}\n",
      "{2 ,4 ,}\n",
      "{1 ,2 ,4 ,}\n",
      "{3 ,4 ,}\n",
      "{1 ,3 ,4 ,}\n",
      "{2 ,3 ,4 ,}\n",
      "{1 ,2 ,3 ,4 ,}\n"
     ]
    }
   ],
   "source": [
    "def subset():\n",
    "    a = [1,2,3,4]\n",
    "    t = 1 << 4 # 从0000 - 1111共2^4=16个子集\n",
    "    for i in range(t):\n",
    "        j = i # 中间变量\n",
    "        k = 0\n",
    "        print('{', end='')\n",
    "        while j:\n",
    "#             print(\"j\",j)\n",
    "            if (j & 1): # 在第i=0时，相当于0000和1111与,\n",
    "                       # i=1时相当于0001和1111与，依次类推，直到\n",
    "                       # i=15时，相当于1111和1111与，共得到16个集合\n",
    "#                 print(str(j))\n",
    "                print(a[k],',', end='')\n",
    "            j >>= 1\n",
    "#             print(j)\n",
    "            k += 1\n",
    "        print('}')\n",
    "        \n",
    "subset()\n",
    "                \n",
    "                \n",
    "                \n",
    "    "
   ]
  },
  {
   "cell_type": "code",
   "execution_count": null,
   "metadata": {},
   "outputs": [],
   "source": []
  }
 ],
 "metadata": {
  "kernelspec": {
   "display_name": "Python 3",
   "language": "python",
   "name": "python3"
  },
  "language_info": {
   "codemirror_mode": {
    "name": "ipython",
    "version": 3
   },
   "file_extension": ".py",
   "mimetype": "text/x-python",
   "name": "python",
   "nbconvert_exporter": "python",
   "pygments_lexer": "ipython3",
   "version": "3.6.4"
  }
 },
 "nbformat": 4,
 "nbformat_minor": 2
}
