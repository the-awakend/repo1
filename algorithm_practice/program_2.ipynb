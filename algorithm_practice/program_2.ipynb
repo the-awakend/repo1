{
 "cells": [
  {
   "cell_type": "markdown",
   "metadata": {},
   "source": [
    "##### 编程题2"
   ]
  },
  {
   "cell_type": "markdown",
   "metadata": {},
   "source": [
    "###### 给定一个数组序列, 需要求选出一个区间, 使得该区间是所有区间中经过如下计算的值\n",
    "###### 最大的一个：区间中的最小数 * 区间所有数加起来的和最大，\n",
    "###### 不需要输出具体的区间。如给定序列  [6 2 1]则根据上述公式, "
   ]
  },
  {
   "cell_type": "code",
   "execution_count": 23,
   "metadata": {},
   "outputs": [],
   "source": [
    "# 思路：从头开始遍历数组，当数组元素只有一个的时候，计算结果，读入第二个元素，\n",
    "# 计算结果， 在读入第三个元素，直到数组读完。对于每次计算，比较三个值：\n",
    "# a[K]*a[k], a[k]*前几个元素的乘积，上一次得到的值\n"
   ]
  },
  {
   "cell_type": "code",
   "execution_count": 22,
   "metadata": {},
   "outputs": [
    {
     "name": "stdin",
     "output_type": "stream",
     "text": [
      "请输入数组长度: 3\n"
     ]
    },
    {
     "name": "stdout",
     "output_type": "stream",
     "text": [
      "输入数组元素:\n"
     ]
    },
    {
     "name": "stdin",
     "output_type": "stream",
     "text": [
      " 1\n",
      " 1\n",
      " 6\n"
     ]
    },
    {
     "name": "stdout",
     "output_type": "stream",
     "text": [
      "36\n"
     ]
    }
   ],
   "source": [
    "N = int(input('请输入数组长度:'))\n",
    "print('输入数组元素:')\n",
    "li  = [0]*N\n",
    "temp = 1\n",
    "result = 1\n",
    "\n",
    "for i in range(N):\n",
    "    li[i] = int(input())\n",
    "    \n",
    "for i in range(len(li)):\n",
    "    temp = temp * li[i]\n",
    "    result = max(result, temp, li[i]*li[i])\n",
    "    # 每次比较三个值，上一个结果result，result和当前值的乘积，当前值的平方\n",
    "print(result)"
   ]
  }
 ],
 "metadata": {
  "kernelspec": {
   "display_name": "Python 3",
   "language": "python",
   "name": "python3"
  },
  "language_info": {
   "codemirror_mode": {
    "name": "ipython",
    "version": 3
   },
   "file_extension": ".py",
   "mimetype": "text/x-python",
   "name": "python",
   "nbconvert_exporter": "python",
   "pygments_lexer": "ipython3",
   "version": "3.6.4"
  }
 },
 "nbformat": 4,
 "nbformat_minor": 2
}
