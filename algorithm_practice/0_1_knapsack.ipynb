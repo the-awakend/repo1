{
 "cells": [
  {
   "cell_type": "markdown",
   "metadata": {},
   "source": [
    "##### 1、0-1背包问题"
   ]
  },
  {
   "cell_type": "code",
   "execution_count": 16,
   "metadata": {},
   "outputs": [
    {
     "name": "stdout",
     "output_type": "stream",
     "text": [
      "begin\n"
     ]
    },
    {
     "name": "stdin",
     "output_type": "stream",
     "text": [
      "输入物品种类： 4\n",
      "输入背包容量: 10\n"
     ]
    },
    {
     "name": "stdout",
     "output_type": "stream",
     "text": [
      "输入物品0的重量:\n"
     ]
    },
    {
     "name": "stdin",
     "output_type": "stream",
     "text": [
      " 5\n"
     ]
    },
    {
     "name": "stdout",
     "output_type": "stream",
     "text": [
      "输入物品0的价值:\n"
     ]
    },
    {
     "name": "stdin",
     "output_type": "stream",
     "text": [
      " 10\n"
     ]
    },
    {
     "name": "stdout",
     "output_type": "stream",
     "text": [
      "输入物品1的重量:\n"
     ]
    },
    {
     "name": "stdin",
     "output_type": "stream",
     "text": [
      " 4\n"
     ]
    },
    {
     "name": "stdout",
     "output_type": "stream",
     "text": [
      "输入物品1的价值:\n"
     ]
    },
    {
     "name": "stdin",
     "output_type": "stream",
     "text": [
      " 40\n"
     ]
    },
    {
     "name": "stdout",
     "output_type": "stream",
     "text": [
      "输入物品2的重量:\n"
     ]
    },
    {
     "name": "stdin",
     "output_type": "stream",
     "text": [
      " 6\n"
     ]
    },
    {
     "name": "stdout",
     "output_type": "stream",
     "text": [
      "输入物品2的价值:\n"
     ]
    },
    {
     "name": "stdin",
     "output_type": "stream",
     "text": [
      " 30\n"
     ]
    },
    {
     "name": "stdout",
     "output_type": "stream",
     "text": [
      "输入物品3的重量:\n"
     ]
    },
    {
     "name": "stdin",
     "output_type": "stream",
     "text": [
      " 3\n"
     ]
    },
    {
     "name": "stdout",
     "output_type": "stream",
     "text": [
      "输入物品3的价值:\n"
     ]
    },
    {
     "name": "stdin",
     "output_type": "stream",
     "text": [
      " 50\n"
     ]
    },
    {
     "name": "stdout",
     "output_type": "stream",
     "text": [
      "4\n",
      "[[  0   0   0   0   0   0   0   0   0   0   0]\n",
      " [  0   0   0   0   0  10  10  10  10  10  20]\n",
      " [  0   0   0   0  40  40  40  40  80  80  80]\n",
      " [  0   0   0   0  40  40  40  40  80  80  80]\n",
      " [  0   0   0  50  50  50 100 100 100 150 150]]\n",
      "150\n"
     ]
    }
   ],
   "source": [
    "### 0-1背包问题\n",
    "\n",
    "import numpy as np\n",
    "\n",
    "def main():\n",
    "    print('begin')\n",
    "    n = int(input('输入物品种类：'))\n",
    "    \n",
    "    s = int(input('输入背包容量:'))\n",
    "    memory = []\n",
    "    for i in range(n):\n",
    "        \n",
    "        print('输入物品%d的重量:'%i)\n",
    "        w = int(input())\n",
    "        print('输入物品%d的价值:'%i)\n",
    "        v = int(input())\n",
    "        memory.append((w, v)) # memory是一个列表，每个元素是一个元祖，元组的第一个值是重量，第二个值是价值\n",
    "    print(len(memory))\n",
    "    matrix, result = KnapSack(n, s, memory)\n",
    "    print(matrix)\n",
    "    print(result)\n",
    "\n",
    "def KnapSack(n, s, memory):\n",
    "    array = np.zeros((n+1, s+1), dtype=np.int32) # 多创造一个第零行和第零列\n",
    "    for i in range(1, n+1):\n",
    "        for j in range(1, s+1):\n",
    "            if j < memory[i-1][0]:  # 当前容量装不下第i个物品\n",
    "                array[i][j] = array[i-1][j]\n",
    "            else:\n",
    "                array[i][j] = max(memory[i-1][1]+array[i][j-memory[i-1][0]], array[i-1][j])\n",
    "\n",
    "    return array, array[n][s]\n",
    "\n",
    "main()"
   ]
  },
  {
   "cell_type": "markdown",
   "metadata": {},
   "source": [
    "##### 2、多重背包问题"
   ]
  },
  {
   "cell_type": "code",
   "execution_count": 19,
   "metadata": {},
   "outputs": [
    {
     "name": "stdin",
     "output_type": "stream",
     "text": [
      "输入物品种类: 4\n",
      "输入背包容量: 10\n"
     ]
    },
    {
     "name": "stdout",
     "output_type": "stream",
     "text": [
      "输入物品0的重量:\n"
     ]
    },
    {
     "name": "stdin",
     "output_type": "stream",
     "text": [
      " 5\n"
     ]
    },
    {
     "name": "stdout",
     "output_type": "stream",
     "text": [
      "输入物品0的价值:\n"
     ]
    },
    {
     "name": "stdin",
     "output_type": "stream",
     "text": [
      " 10\n"
     ]
    },
    {
     "name": "stdout",
     "output_type": "stream",
     "text": [
      "输入物品1的重量:\n"
     ]
    },
    {
     "name": "stdin",
     "output_type": "stream",
     "text": [
      " 4\n"
     ]
    },
    {
     "name": "stdout",
     "output_type": "stream",
     "text": [
      "输入物品1的价值:\n"
     ]
    },
    {
     "name": "stdin",
     "output_type": "stream",
     "text": [
      " 40\n"
     ]
    },
    {
     "name": "stdout",
     "output_type": "stream",
     "text": [
      "输入物品2的重量:\n"
     ]
    },
    {
     "name": "stdin",
     "output_type": "stream",
     "text": [
      " 6\n"
     ]
    },
    {
     "name": "stdout",
     "output_type": "stream",
     "text": [
      "输入物品2的价值:\n"
     ]
    },
    {
     "name": "stdin",
     "output_type": "stream",
     "text": [
      " 30\n"
     ]
    },
    {
     "name": "stdout",
     "output_type": "stream",
     "text": [
      "输入物品3的重量:\n"
     ]
    },
    {
     "name": "stdin",
     "output_type": "stream",
     "text": [
      " 3\n"
     ]
    },
    {
     "name": "stdout",
     "output_type": "stream",
     "text": [
      "输入物品3的价值:\n"
     ]
    },
    {
     "name": "stdin",
     "output_type": "stream",
     "text": [
      " 50\n"
     ]
    },
    {
     "name": "stdout",
     "output_type": "stream",
     "text": [
      "4\n",
      "背包最大价值为:150\n"
     ]
    }
   ],
   "source": [
    "def main():\n",
    "    n = int(input('输入物品种类:'))\n",
    "    m = int(input('输入背包容量:'))\n",
    "    memory = [] # 用来存储物品重量和对应价值\n",
    "    for i in range(n):\n",
    "        print('输入物品%d的重量:'%i)\n",
    "        w = int(input())\n",
    "        print('输入物品%d的价值:'%i)\n",
    "        v = int(input())\n",
    "        memory.append((w,v))\n",
    "    print(len(memory))\n",
    "    result = bag_multi(n, m, memory)\n",
    "    print(\"背包最大价值为:\"+str(result))\n",
    "    \n",
    "def bag_multi(n, m, memory):\n",
    "    result = [0] * (m+1) # result表示，当不存入物品的时候，容量分别为1到m所带来的价值\n",
    "    for i in range(n):\n",
    "        # 存第i个物品,共n个物品，从0到n-1\n",
    "        for j in range(1,m+1):\n",
    "            # 当容量为j+1的时候,容量得从1到m\n",
    "            if (j >= memory[i][0]):\n",
    "                result[j] = max(result[j], result[j-memory[i][0]] + memory[i][1])\n",
    "            else:\n",
    "                result[j] = result[j]\n",
    "    return result[m-1]\n",
    "\n",
    "main()\n",
    "        \n",
    "        "
   ]
  },
  {
   "cell_type": "markdown",
   "metadata": {},
   "source": [
    "##### 3、0-1背包问题的一维数组解法"
   ]
  },
  {
   "cell_type": "code",
   "execution_count": 20,
   "metadata": {},
   "outputs": [
    {
     "name": "stdin",
     "output_type": "stream",
     "text": [
      "输入物品种类: 4\n",
      "输入背包容量: 10\n"
     ]
    },
    {
     "name": "stdout",
     "output_type": "stream",
     "text": [
      "输入物品0的重量:\n"
     ]
    },
    {
     "name": "stdin",
     "output_type": "stream",
     "text": [
      " 5\n"
     ]
    },
    {
     "name": "stdout",
     "output_type": "stream",
     "text": [
      "输入物品0的价值:\n"
     ]
    },
    {
     "name": "stdin",
     "output_type": "stream",
     "text": [
      " 10\n"
     ]
    },
    {
     "name": "stdout",
     "output_type": "stream",
     "text": [
      "输入物品1的重量:\n"
     ]
    },
    {
     "name": "stdin",
     "output_type": "stream",
     "text": [
      " 4\n"
     ]
    },
    {
     "name": "stdout",
     "output_type": "stream",
     "text": [
      "输入物品1的价值:\n"
     ]
    },
    {
     "name": "stdin",
     "output_type": "stream",
     "text": [
      " 40\n"
     ]
    },
    {
     "name": "stdout",
     "output_type": "stream",
     "text": [
      "输入物品2的重量:\n"
     ]
    },
    {
     "name": "stdin",
     "output_type": "stream",
     "text": [
      " 6\n"
     ]
    },
    {
     "name": "stdout",
     "output_type": "stream",
     "text": [
      "输入物品2的价值:\n"
     ]
    },
    {
     "name": "stdin",
     "output_type": "stream",
     "text": [
      " 30\n"
     ]
    },
    {
     "name": "stdout",
     "output_type": "stream",
     "text": [
      "输入物品3的重量:\n"
     ]
    },
    {
     "name": "stdin",
     "output_type": "stream",
     "text": [
      " 3\n"
     ]
    },
    {
     "name": "stdout",
     "output_type": "stream",
     "text": [
      "输入物品3的价值:\n"
     ]
    },
    {
     "name": "stdin",
     "output_type": "stream",
     "text": [
      " 50\n"
     ]
    },
    {
     "name": "stdout",
     "output_type": "stream",
     "text": [
      "4\n",
      "背包最大价值为:90\n"
     ]
    }
   ],
   "source": [
    "def main():\n",
    "    n = int(input('输入物品种类:'))\n",
    "    m = int(input('输入背包容量:'))\n",
    "    memory = [] # 用来存储物品重量和对应价值\n",
    "    for i in range(n):\n",
    "        print('输入物品%d的重量:'%i)\n",
    "        w = int(input())\n",
    "        print('输入物品%d的价值:'%i)\n",
    "        v = int(input())\n",
    "        memory.append((w,v))\n",
    "    print(len(memory))\n",
    "    result = bag_multi(n, m, memory)\n",
    "    print(\"背包最大价值为:\"+str(result))\n",
    "\n",
    "    \n",
    "def bag_multi(n, m, memory):\n",
    "    result = [0] * (m+1) # result表示，当不存入物品的时候，容量分别为1到m所带来的价值\n",
    "    for i in range(n):\n",
    "        # 存第i个物品\n",
    "        for j in range(1,m+1)[::-1]:\n",
    "            if j >= memory[i][0]:\n",
    "                # 当前的容量能够装入物品i\n",
    "                result[j] = max(result[j], result[j-memory[i][0]] + memory[i][1])\n",
    "            else:\n",
    "                result[j] = result[j]\n",
    "                \n",
    "    return result[m-1]\n",
    "                \n",
    "            \n",
    "main()    "
   ]
  },
  {
   "cell_type": "markdown",
   "metadata": {},
   "source": [
    "##### 4、多重背包问题"
   ]
  },
  {
   "cell_type": "code",
   "execution_count": null,
   "metadata": {},
   "outputs": [],
   "source": [
    "# 多重背包问题限定了一种物品的个数，解决这个问题，只需要把它转化为0-1背包问题就可以。"
   ]
  }
 ],
 "metadata": {
  "kernelspec": {
   "display_name": "Python 3",
   "language": "python",
   "name": "python3"
  },
  "language_info": {
   "codemirror_mode": {
    "name": "ipython",
    "version": 3
   },
   "file_extension": ".py",
   "mimetype": "text/x-python",
   "name": "python",
   "nbconvert_exporter": "python",
   "pygments_lexer": "ipython3",
   "version": "3.6.4"
  }
 },
 "nbformat": 4,
 "nbformat_minor": 2
}
