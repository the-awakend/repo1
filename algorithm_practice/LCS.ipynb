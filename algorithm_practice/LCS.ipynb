{
 "cells": [
  {
   "cell_type": "markdown",
   "metadata": {},
   "source": [
    "##### 最长公共子序列\n",
    "###### 最长公共子序列不要求连续，这和最长公共字串是不一样的"
   ]
  },
  {
   "cell_type": "code",
   "execution_count": 105,
   "metadata": {},
   "outputs": [
    {
     "name": "stdout",
     "output_type": "stream",
     "text": [
      "输入两个字符串,逗号分割:\n"
     ]
    },
    {
     "name": "stdin",
     "output_type": "stream",
     "text": [
      " hello,lo\n"
     ]
    },
    {
     "name": "stdout",
     "output_type": "stream",
     "text": [
      "初始列表:[[0, 0, 0], [0, 0, 0], [0, 0, 0], [0, 0, 0], [0, 0, 0], [0, 0, 0]]\n",
      "处理后的列表:[[0, 0, 0], [0, 0, 0], [0, 0, 0], [0, 1, 1], [0, 1, 1], [0, 1, 2]]\n",
      "路径列表:[[0, 0, 0], [0, 1, 1], [0, 1, 1], [0, 0, 1], [0, 0, 1], [0, -1, 0]]\n",
      "最长公共字串长度: 2\n",
      "LCS序列:\n",
      "lo"
     ]
    }
   ],
   "source": [
    "def main():\n",
    "    print('输入两个字符串,逗号分割:')\n",
    "    x, y= input().split(',')\n",
    "    n, m = len(x)+1, len(y)+1\n",
    "    c, b = [], []\n",
    "    for i in range(n):\n",
    "        # 初始化c, b\n",
    "        c.append([])\n",
    "        b.append([])\n",
    "        for j in range(m):\n",
    "            c[i].append(0)\n",
    "            b[i].append(0)\n",
    "\n",
    "#     c = [[0]*m]*n # n行m列\n",
    "#     b = [[0]*m]*n # 错误的浅拷贝形式\n",
    "    print('初始列表:{0}'.format(c))\n",
    "\n",
    "    LCS_length = lcs_length(x, y, c, b, n, m) # 计算LCS的长度,c和b都是列表，是可变类型，所以是可以带回值的\n",
    "    print('处理后的列表:{0}'.format(c))\n",
    "    print('路径列表:{0}'.format(b))\n",
    "    print(\"最长公共字串长度: \" + str(LCS_length))\n",
    "    print(\"LCS序列:\")\n",
    "    printLCS(b, x, n-1, m-1)\n",
    "    \n",
    "    \n",
    "    \n",
    "\n",
    "\n",
    "def lcs_length(x,y,c,b,n,m):\n",
    "    # 求最大公共子序列的长度，在求长度的同是保留了路径的附加信息，多用了一个列表b\n",
    "    # c是LCS长度表，b是路径表\n",
    "    \n",
    "    # b存放路径，如果c[i][j]的值来源于c[i-1][j-1]的话，b[i][j]=0,\n",
    "    # 来源于c[i-1][j],b[i][j]=1,来源于c[i][j-1]，b[i][j]=-1\n",
    "    for i in range(1, n):\n",
    "        \n",
    "        for j in range(1, m):            \n",
    "#             if i==0 or j==0:\n",
    "#                 c[i][j] = 0\n",
    "#                 b[i][j] = 0\n",
    "            \n",
    "            if x[i-1] == y[j-1]:\n",
    "                c[i][j] = c[i-1][j-1] + 1\n",
    "                b[i][j] = 0\n",
    "            elif c[i][j-1] >= c[i-1][j]:\n",
    "                c[i][j] = c[i][j-1]\n",
    "                b[i][j] = 1\n",
    "            else:\n",
    "                c[i][j] = c[i-1][j]\n",
    "                \n",
    "                b[i][j] = -1\n",
    "    return c[n-1][m-1]\n",
    "    # 最长公共子列就在从b[i][j]回溯到b[0][0]的路径上\n",
    "    # 我们在b中记录下了每个c[i][j]的值是从矩阵中那个值得到的，b[i][j]=0则v[i][j]\n",
    "    # 是从左上角c[i-1][j-1]得到的，=1则是从c[i][j-1]得到，=-1则是从c[i-1][j]得到\n",
    "    # ，只有b[i][j]=0的时候,c[i][j]才是Ai和Bj两个序列的最后一个公共字符,便打印出\n",
    "    # c[i][j]\n",
    "                \n",
    "#           c[i][j] = max(c[i][j-1], c[i-1][j])\n",
    "def printLCS(b, s, i, j):\n",
    "    if i==0 or j==0:\n",
    "        return \n",
    "    if b[i][j] == 0:\n",
    "        printLCS(b, s, i-1, j-1) # 打印Ai-1和Bj-1两个序列的最长公共子串\n",
    "        print(s[i-1],end='') # 打印序列s中第i个字符\n",
    "    elif b[i][j] == 1:\n",
    "        printLCS(b, s, i-1, j)\n",
    "    else:\n",
    "        printLCS(b, s, i, j-1)\n",
    "\n",
    "main()    \n",
    "\n",
    "\n",
    "\n"
   ]
  }
 ],
 "metadata": {
  "kernelspec": {
   "display_name": "Python 3",
   "language": "python",
   "name": "python3"
  },
  "language_info": {
   "codemirror_mode": {
    "name": "ipython",
    "version": 3
   },
   "file_extension": ".py",
   "mimetype": "text/x-python",
   "name": "python",
   "nbconvert_exporter": "python",
   "pygments_lexer": "ipython3",
   "version": "3.6.4"
  }
 },
 "nbformat": 4,
 "nbformat_minor": 2
}
