{
 "cells": [
  {
   "cell_type": "markdown",
   "metadata": {},
   "source": [
    "##### 1、动态规划"
   ]
  },
  {
   "cell_type": "code",
   "execution_count": 7,
   "metadata": {},
   "outputs": [
    {
     "name": "stdin",
     "output_type": "stream",
     "text": [
      "数组长度: 10\n",
      " 1\n",
      " 2\n",
      " 3\n",
      " 4\n",
      " 5\n",
      " 6\n",
      " 7\n",
      " 8\n",
      " 9\n",
      " -10\n"
     ]
    },
    {
     "name": "stdout",
     "output_type": "stream",
     "text": [
      "最大和为: 45\n"
     ]
    }
   ],
   "source": [
    "# 输入待计算的数组，输出最大连续子列和以及最大连续子列\n",
    "\n",
    "# seq = [0]*10000 # 开辟静态空间\n",
    "\n",
    "def max_sum_seq(N, seq):\n",
    "    seq[0] = 0 #将结果保存在第零个元素的位置\n",
    "    ans = seq[0]\n",
    "    for i in range(N+1)[1:]:\n",
    "        if seq[i-1] >0: seq[i] += seq[i-1] # 将以第i个元素结尾的结果存放在seq[i]中\n",
    "        else: seq[i] += 0\n",
    "        if seq[i] > ans: ans = seq[i]\n",
    "    print('最大和为:',ans)\n",
    "def main():\n",
    "    \n",
    "    N = int(input('数组长度:'))\n",
    "    seq = [0] * (N+1)\n",
    "    for i in range(N+1)[1:]:\n",
    "        seq[i] = int(input())\n",
    "    max_sum_seq(N, seq)\n",
    "\n",
    "main()"
   ]
  },
  {
   "cell_type": "markdown",
   "metadata": {},
   "source": [
    "##### 2、这个方法好像称作在线处理。其思想大致相当于每次都从键盘或者数组读取一个元素，同时计算以该元素结尾的最大子列和。"
   ]
  },
  {
   "cell_type": "code",
   "execution_count": 8,
   "metadata": {},
   "outputs": [
    {
     "name": "stdin",
     "output_type": "stream",
     "text": [
      "输入数组长度: 10\n"
     ]
    },
    {
     "name": "stdout",
     "output_type": "stream",
     "text": [
      "输入数组元素值:\n"
     ]
    },
    {
     "name": "stdin",
     "output_type": "stream",
     "text": [
      " 1\n",
      " 2\n",
      " 3\n",
      " 4\n",
      " 5\n",
      " 6\n",
      " 7\n",
      " 8\n",
      " 9\n",
      " -10\n"
     ]
    },
    {
     "name": "stdout",
     "output_type": "stream",
     "text": [
      "最大和为: 45\n"
     ]
    }
   ],
   "source": [
    "# 方法2 在计算以第n个元素为结尾的最大子列和s[n]时，同时维护一个最小值lmin，这个最小值是sum[1]、sum[2]...\n",
    "# sum[n-1]之中的最小值，sum[i]表示从1到i的和，则s[n] = sum[n] - min(s[1], s[2]...s[n-1])。\n",
    "def max_sum_seq(N, seq):\n",
    "    seq[0] = 0 #将结果保存在第零个元素的位置\n",
    "    ans = seq[0]\n",
    "    lmin = seq[0] # lmin表示从计算到当前时刻，得到的最小的sum\n",
    "    for i in range(N+1)[1:]:\n",
    "        seq[i] += seq[i-1] # 将从第一个元素到第i个元素结尾的和存放在seq[i]中\n",
    "        if seq[i] - lmin > ans: # 以第i个元素结尾的最大子列和大于最大值，则更新ans\n",
    "            ans = seq[i] - lmin\n",
    "        if seq[i] < lmin:\n",
    "            lmin = seq[i] # 否则，在计算以第i个元素结尾的最大子列和之前，更新lmin\n",
    "    print('最大和为:',ans)\n",
    "    \n",
    "def main():\n",
    "    \n",
    "    N = int(input('输入数组长度:'))\n",
    "    seq = [0] * (N+1)\n",
    "    print('输入数组元素值:')\n",
    "    for i in range(N+1)[1:]:\n",
    "        seq[i] = int(input())\n",
    "    max_sum_seq(N, seq)\n",
    "\n",
    "main()"
   ]
  },
  {
   "cell_type": "markdown",
   "metadata": {},
   "source": [
    "##### 3、在线处理，这样写更简洁"
   ]
  },
  {
   "cell_type": "code",
   "execution_count": null,
   "metadata": {},
   "outputs": [],
   "source": [
    "def max_sum_seq(N, seq):\n",
    "    result = seq[0]\n",
    "    maxEnd = seq[0] # 以当前元素结尾的最大和\n",
    "    for i in range(N)[1:]:\n",
    "        maxEnd = max((maxEnd+seq[i]), seq[i])\n",
    "        if maxEnd > result:\n",
    "            result = maxEnd\n",
    "    print(result)\n",
    "        \n",
    "    \n",
    "def main():\n",
    "    \n",
    "    N = int(input('输入数组长度:'))\n",
    "    seq = [0] * (N)\n",
    "    print('输入数组元素值:')\n",
    "    for i in range(N):\n",
    "        seq[i] = int(input())\n",
    "    max_sum_seq(N, seq)\n",
    "\n",
    "main()"
   ]
  },
  {
   "cell_type": "markdown",
   "metadata": {},
   "source": [
    "##### 最大子列积"
   ]
  },
  {
   "cell_type": "code",
   "execution_count": null,
   "metadata": {},
   "outputs": [],
   "source": [
    "def max_seq_product(N, seq):\n",
    "    maxEnd = seq[0] # 存放当前最大子列积\n",
    "    minEnd = seq[0] # 最小子列积\n",
    "    pro = seq[0] #存放最终结果\n",
    "    for i in range(N)[1:]:\n",
    "        pro1 = maxEnd*seq[i]\n",
    "        pro2 = minEnd*seq[i]\n",
    "        maxEnd = max(max(pro1, pro2), seq[i])\n",
    "        minEnd = min(min(pro1, pro2), seq[i])\n",
    "        pro = max(maxEnd, pro)\n",
    "    print('最大子列积为：',pro)\n",
    "def main():\n",
    "    \n",
    "    N = int(input('输入数组长度:'))\n",
    "    seq = [0] * (N)\n",
    "    print('输入数组元素值:')\n",
    "    for i in range(N):\n",
    "        seq[i] = int(input())\n",
    "    max_seq_product(N, seq)\n",
    "\n",
    "main()"
   ]
  },
  {
   "cell_type": "code",
   "execution_count": null,
   "metadata": {},
   "outputs": [],
   "source": [
    "def "
   ]
  }
 ],
 "metadata": {
  "kernelspec": {
   "display_name": "Python 3",
   "language": "python",
   "name": "python3"
  },
  "language_info": {
   "codemirror_mode": {
    "name": "ipython",
    "version": 3
   },
   "file_extension": ".py",
   "mimetype": "text/x-python",
   "name": "python",
   "nbconvert_exporter": "python",
   "pygments_lexer": "ipython3",
   "version": "3.6.4"
  }
 },
 "nbformat": 4,
 "nbformat_minor": 2
}
