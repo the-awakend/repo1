{
 "cells": [
  {
   "cell_type": "markdown",
   "metadata": {},
   "source": [
    "##### 题目：\n",
    "##### P为给定的二维平面整数点集。定义 P 中某点x，如果x满足 P 中任意点\n",
    "##### 都不在 x 的右上方区域内（横纵坐标都大于x），则称其为“最大的”。求出所有“最大##### 的”点的集合。（所有点的横坐标和纵坐标都不重复, 坐标轴范围在[0, 1e9) 内）"
   ]
  },
  {
   "cell_type": "code",
   "execution_count": 9,
   "metadata": {},
   "outputs": [
    {
     "name": "stdin",
     "output_type": "stream",
     "text": [
      "请输入点的个数: 3\n",
      "请输入点0,以逗号分割 1,2\n",
      "请输入点1,以逗号分割 3,4\n",
      "请输入点2,以逗号分割 5,6\n"
     ]
    },
    {
     "name": "stdout",
     "output_type": "stream",
     "text": [
      "{(1, 2), (3, 4), (5, 6)}\n",
      "6\n",
      "5\n",
      "结果为: [(5, 6)]\n"
     ]
    }
   ],
   "source": [
    "##### 思路：\n",
    "# 1、找出点集中y值最大的点A，找出点集中x值最大的点B，\n",
    "# 2、如果A.x = B.x，输出A，结束\n",
    "# 否则， 输出A，重建集合，删除点A和点A.x左边的点。(只有x坐标在A.x和B.x之间的点才可能满足条件。)回到第一步\n",
    "\n",
    "N = int(input('请输入点的个数:'))\n",
    "s = set()\n",
    "out = []\n",
    "for i in range(N):\n",
    "#     x,y = input('请输入点%d,以逗号分割'%i).split(',')\n",
    "    x,y = map(int, input('请输入点%d,以逗号分割'%i).split(','))\n",
    "    \n",
    "    s.add((x,y))\n",
    "print(s)\n",
    "\n",
    "# N = 5\n",
    "# s = {(1,2), (5,3), (4,6), (7,5), (9,0)}\n",
    "\n",
    "dic2 = dict([(v, k) for (k, v) in s]) # 构建一个以y值为key以x值为value的字典{y:x},仅仅用来交换访问，通过列表也行\n",
    "dic1 = dict(s) # 点的字典,{x:y}\n",
    "\n",
    "while True: \n",
    "    ymax = max([point[1] for point in s])\n",
    "    xmax = max([point[0] for point in s])\n",
    "    print(ymax)\n",
    "    print(xmax)\n",
    "    point_A = (dic2[ymax], ymax)\n",
    "    point_B = (xmax, dic1[xmax])\n",
    "    if dic2[ymax] == xmax:\n",
    "        out.append(point_A)\n",
    "        break\n",
    "    else:\n",
    "        out.append(point_A)\n",
    "        s = [point for point in s if point[0] > dic2[ymax]] # 删除点A和点A.x左边的点\n",
    "        # point_A满足题目条件\n",
    "        continue\n",
    "\n",
    "print('结果为:',out)\n",
    "\n",
    "        \n",
    "    \n",
    "\n",
    "    "
   ]
  },
  {
   "cell_type": "code",
   "execution_count": null,
   "metadata": {},
   "outputs": [],
   "source": []
  }
 ],
 "metadata": {
  "kernelspec": {
   "display_name": "Python 3",
   "language": "python",
   "name": "python3"
  },
  "language_info": {
   "codemirror_mode": {
    "name": "ipython",
    "version": 3
   },
   "file_extension": ".py",
   "mimetype": "text/x-python",
   "name": "python",
   "nbconvert_exporter": "python",
   "pygments_lexer": "ipython3",
   "version": "3.6.4"
  }
 },
 "nbformat": 4,
 "nbformat_minor": 2
}
