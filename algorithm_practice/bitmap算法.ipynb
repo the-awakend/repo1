{
 "cells": [
  {
   "cell_type": "markdown",
   "metadata": {},
   "source": [
    "所谓的BitMap就是用一个bit位来标记某个元素所对应的value，而key即是该元素，由于BitMap使用了bit位来存储数据，因此可以大大节省存储空间。\n",
    "Bitmap算法常用来查找、排序等操作"
   ]
  },
  {
   "cell_type": "code",
   "execution_count": 4,
   "metadata": {},
   "outputs": [
    {
     "name": "stdout",
     "output_type": "stream",
     "text": [
      "0.43305782286651046\n"
     ]
    }
   ],
   "source": [
    "import random\n",
    "c1=0\n",
    "c2=0\n",
    "for i in range(1000000):\n",
    "    x = random.random()\n",
    "    y = random.random()\n",
    "    z = random.random()\n",
    "    r1 = x+y+z-1\n",
    "    r2 = x-y+z-1\n",
    "    r3 = x+y-z-1\n",
    "    r4 = -x+y+z-1\n",
    "    r5 = (0.5-x)*(0.5-x)+(0.5-y)*(0.5-y)+(z-0.5)*(z-0.5)\n",
    "    if r1>0 and r2<0 and r3<0 and r4<0:\n",
    "        if r5 <= 1/12:\n",
    "            c1 += 1\n",
    "        else:\n",
    "            c2 += 1\n",
    "print(c1/c2)\n"
   ]
  },
  {
   "cell_type": "code",
   "execution_count": 20,
   "metadata": {},
   "outputs": [
    {
     "data": {
      "text/plain": [
       "0.31127499999999997"
      ]
     },
     "execution_count": 20,
     "metadata": {},
     "output_type": "execute_result"
    }
   ],
   "source": [
    "import math\n",
    "from math import log\n",
    "# 1/2 *(log(1/2,2)) + 1/2*(log(1/2,2))\n",
    "# log(1,2)\n",
    "1-3/4*0.9183"
   ]
  },
  {
   "cell_type": "code",
   "execution_count": 31,
   "metadata": {},
   "outputs": [
    {
     "data": {
      "text/plain": [
       "5.0990195135927765"
      ]
     },
     "execution_count": 31,
     "metadata": {},
     "output_type": "execute_result"
    }
   ],
   "source": [
    "A = [[2,0,1,7],\n",
    "    [2,0,1,8],\n",
    "    [2,0,1,9]]\n",
    "import numpy as np\n",
    "A_ = np.transpose(A)\n",
    "R = np.dot(A,A_)\n",
    "e, ev = np.linalg.eig(R)\n",
    "B = [[3,1,4],\n",
    "    [2,0,5],\n",
    "    [4,2,3],\n",
    "    [2,0,6],\n",
    "    [4,2,2]]\n",
    "res = np.dot(B,ev)\n",
    "resu = np.mean(res, 0)\n",
    "resu\n",
    "norm = np.linalg.norm(resu,ord=2)\n",
    "norm"
   ]
  },
  {
   "cell_type": "code",
   "execution_count": 38,
   "metadata": {},
   "outputs": [
    {
     "data": {
      "text/plain": [
       "281381810.0"
      ]
     },
     "execution_count": 38,
     "metadata": {},
     "output_type": "execute_result"
    }
   ],
   "source": [
    "import PIL\n",
    "im = PIL.Image.open('C:/Users/liupe/Desktop/1.bmp')\n",
    "data = im.getdata()\n",
    "data = np.matrix(data,dtype='float')\n",
    "np.sum(data)"
   ]
  },
  {
   "cell_type": "code",
   "execution_count": 42,
   "metadata": {},
   "outputs": [
    {
     "data": {
      "text/plain": [
       "281381810"
      ]
     },
     "execution_count": 42,
     "metadata": {},
     "output_type": "execute_result"
    }
   ],
   "source": [
    "im = PIL.Image.open('C:/Users/liupe/Desktop/1.bmp')\n",
    "matrix = np.asarray(im)\n",
    "matrix\n",
    "np.sum(matrix)"
   ]
  },
  {
   "cell_type": "code",
   "execution_count": 107,
   "metadata": {},
   "outputs": [
    {
     "name": "stdout",
     "output_type": "stream",
     "text": [
      "bitmap位图展示:\n",
      "a[0]: [0, 0, 0, 0, 0, 0, 0, 0, 0, 0, 0, 0, 0, 0, 0, 0, 0, 0, 0, 0, 0, 0, 0, 0, 0, 0, 0, 0, 0, 0, 0, 0]\n",
      "a[1]: [0, 0, 0, 0, 0, 0, 0, 0, 0, 0, 0, 0, 0, 0, 0, 0, 0, 0, 0, 0, 0, 0, 0, 0, 0, 0, 0, 0, 0, 0, 0, 0]\n",
      "a[2]: [0, 0, 0, 0, 0, 0, 0, 0, 0, 0, 0, 0, 0, 0, 0, 0, 0, 0, 0, 0, 0, 0, 0, 0, 0, 0, 0, 0, 0, 0, 0, 0]\n",
      "a[3]: [0, 0, 0, 0, 0, 0, 0, 0, 0, 0, 0, 0, 0, 0, 0, 0, 0, 0, 0, 0, 0, 0, 0, 0, 0, 0, 0, 0, 0, 0, 0, 0]\n",
      "a[4]: [0, 0, 0, 0, 0, 0, 0, 0, 0, 0, 0, 0, 0, 0, 0, 0, 0, 0, 0, 0, 0, 0, 0, 0, 0, 0, 0, 0, 0, 0, 0, 0]\n",
      "temp 33 has already exists\n",
      "bitmap位图展示:\n",
      "a[0]: [0, 1, 0, 0, 0, 1, 0, 0, 0, 0, 0, 0, 0, 0, 0, 0, 0, 1, 0, 0, 0, 1, 0, 0, 0, 0, 0, 0, 0, 0, 1, 0]\n",
      "a[1]: [1, 0, 0, 1, 0, 0, 0, 0, 0, 0, 0, 0, 0, 1, 0, 0, 0, 0, 0, 0, 0, 0, 0, 0, 1, 0, 0, 0, 0, 0, 0, 0]\n",
      "a[2]: [1, 0, 0, 0, 0, 0, 0, 0, 0, 0, 0, 0, 0, 0, 0, 0, 0, 0, 0, 0, 0, 0, 0, 0, 0, 0, 0, 0, 0, 0, 0, 0]\n",
      "a[3]: [0, 0, 0, 0, 0, 0, 0, 0, 0, 0, 0, 0, 0, 0, 0, 0, 0, 0, 0, 0, 0, 0, 0, 0, 1, 0, 0, 0, 0, 0, 0, 0]\n",
      "a[4]: [0, 0, 0, 0, 0, 0, 0, 0, 0, 0, 0, 0, 0, 0, 0, 0, 0, 0, 0, 0, 0, 0, 0, 0, 0, 0, 0, 0, 0, 0, 0, 1]\n"
     ]
    }
   ],
   "source": [
    "\n",
    "class Bitmap:\n",
    "    def __init__(self):\n",
    "        self.n = 10000000\n",
    "        self.a = [0]*int((self.n/32+1))\n",
    "    \n",
    "    def addValue(self,x): # row = n / 32 求十进制数在数组a中的下标,使用移位操作实现\n",
    "        row = x >> 5\n",
    "        self.a[row] |= 1 << (x&0x1F) # 相当于 n % 32 求十进制数在数组a[i]中的下标\n",
    "        # x&0x1F表示的结果是：除了x所在的哪一位，其余位全为0\n",
    "        # a[row] |= 1 << (x%32)\n",
    "\n",
    "    def exits(self, x):\n",
    "        row = x >> 5\n",
    "        return(self.a[row] & (1 << (x&0x1F))) != 1 #  判断所在的bit为是否为1，是则返回1，否则返回0\n",
    "\n",
    "    def display(self, row):\n",
    "        print('bitmap位图展示:')\n",
    "        for i in range(row):\n",
    "            L = []\n",
    "            temp = self.a[i]\n",
    "            for j in range(32):\n",
    "                L.append(temp & 1) # L中加入temp的最后一位，从后往前，因为a[i](二进制)是从后往前存储输入数据的\n",
    "                temp >>= 1\n",
    "            print('a[%d]:'%i,L)\n",
    "        \n",
    "        \n",
    "def main():\n",
    "    num = [1,5,30,32,64,56,159,120,21,17,35,45]\n",
    "#     n = len(num)\n",
    "    bmap = Bitmap()\n",
    "    bmap.display(5)\n",
    "    for i in num:\n",
    "        bmap.addValue(i)\n",
    "    temp = 120\n",
    "    if bmap.exits(temp):\n",
    "        print('temp %d has already exists'%temp)\n",
    "    bmap.display(5)\n",
    "main()  "
   ]
  },
  {
   "cell_type": "code",
   "execution_count": 115,
   "metadata": {},
   "outputs": [
    {
     "data": {
      "text/plain": [
       "64"
      ]
     },
     "execution_count": 115,
     "metadata": {},
     "output_type": "execute_result"
    }
   ],
   "source": []
  },
  {
   "cell_type": "code",
   "execution_count": 119,
   "metadata": {},
   "outputs": [
    {
     "name": "stdin",
     "output_type": "stream",
     "text": [
      " 1,2,a\n"
     ]
    },
    {
     "data": {
      "text/plain": [
       "3"
      ]
     },
     "execution_count": 119,
     "metadata": {},
     "output_type": "execute_result"
    }
   ],
   "source": [
    "a = map(int, input().split(','))\n",
    "a,b,c = input().split(',')\n",
    "c,d,e = [1,2,3]\n",
    "e"
   ]
  }
 ],
 "metadata": {
  "kernelspec": {
   "display_name": "Python 3",
   "language": "python",
   "name": "python3"
  },
  "language_info": {
   "codemirror_mode": {
    "name": "ipython",
    "version": 3
   },
   "file_extension": ".py",
   "mimetype": "text/x-python",
   "name": "python",
   "nbconvert_exporter": "python",
   "pygments_lexer": "ipython3",
   "version": "3.6.4"
  }
 },
 "nbformat": 4,
 "nbformat_minor": 2
}
