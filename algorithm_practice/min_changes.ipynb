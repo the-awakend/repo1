{
 "cells": [
  {
   "cell_type": "markdown",
   "metadata": {},
   "source": [
    "##### 钱币找零"
   ]
  },
  {
   "cell_type": "code",
   "execution_count": 54,
   "metadata": {},
   "outputs": [
    {
     "name": "stdin",
     "output_type": "stream",
     "text": [
      "输入面值:: 100\n"
     ]
    },
    {
     "name": "stdout",
     "output_type": "stream",
     "text": [
      "1.0\n"
     ]
    }
   ],
   "source": [
    "\n",
    "\n",
    "def change(money, N, Counts, Values):\n",
    "    num = 0\n",
    "    for i in range(N)[::-1]:\n",
    "        bill_num = min(money/Values[i], Counts[i]) # 每张纸币所需数量\n",
    "        money = money - bill_num * Values[i]\n",
    "        num += bill_num\n",
    "        if money > 0:\n",
    "            num = -1\n",
    "        return num\n",
    "\n",
    "def main():\n",
    "    N = 7 # 7种钱币\n",
    "    Counts = [3, 0, 2, 1, 0, 3, 5]\n",
    "    Values = [1, 2, 5, 10, 20, 50, 100]\n",
    "    money = int(input('输入面值::'))\n",
    "    res = change(money, N, Counts, Values)\n",
    "    if(res != -1):\n",
    "        print(res)\n",
    "    else:\n",
    "        print('找不开.')\n",
    "\n",
    "main()"
   ]
  }
 ],
 "metadata": {
  "kernelspec": {
   "display_name": "Python 3",
   "language": "python",
   "name": "python3"
  },
  "language_info": {
   "codemirror_mode": {
    "name": "ipython",
    "version": 3
   },
   "file_extension": ".py",
   "mimetype": "text/x-python",
   "name": "python",
   "nbconvert_exporter": "python",
   "pygments_lexer": "ipython3",
   "version": "3.6.4"
  }
 },
 "nbformat": 4,
 "nbformat_minor": 2
}
