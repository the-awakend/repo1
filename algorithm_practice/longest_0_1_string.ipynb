{
 "cells": [
  {
   "cell_type": "code",
   "execution_count": 7,
   "metadata": {},
   "outputs": [
    {
     "name": "stdout",
     "output_type": "stream",
     "text": [
      "8\n",
      "8\n"
     ]
    }
   ],
   "source": [
    "class Solution:\n",
    "    \"\"\"\n",
    "    @param s: 0、1子串\n",
    "    @return: 最长 0、1相等子串的长度\n",
    "    \"\"\"\n",
    "    def lengest01SubStr(self, s):\n",
    "        count = [0, 0]\n",
    "        B = [0] * len(s)\n",
    "        dic = {}  # 保存0、1的差值\n",
    "        lengest = 0\n",
    "        for i in range(len(s)):\n",
    "            count[int(s[i])] += 1\n",
    "            B[i] = count[0] - count[1] # 0、1 出现的差值\n",
    "            if B[i] == 0:  # 从字符串开始，0、1出现的次数相等\n",
    "                lengest = i + 1\n",
    "                continue\n",
    "            # 字典中有，说明字典保存的下标到当前下标这一段，出现0与1的个数相等\n",
    "            if B[i] in dic:\n",
    "                lengest = max(lengest, i - dic[B[i]]) # 更新最长子串\n",
    "            else:\n",
    "                dic[B[i]] = i\n",
    "        return lengest\n",
    "\n",
    "a = '01010101111'\n",
    "b = '10110100'\n",
    "print(Solution().lengest01SubStr(a)) # 6 # '011010'\n",
    "print(Solution().lengest01SubStr(b)) # 8 # '10110100'"
   ]
  }
 ],
 "metadata": {
  "kernelspec": {
   "display_name": "Python 3",
   "language": "python",
   "name": "python3"
  },
  "language_info": {
   "codemirror_mode": {
    "name": "ipython",
    "version": 3
   },
   "file_extension": ".py",
   "mimetype": "text/x-python",
   "name": "python",
   "nbconvert_exporter": "python",
   "pygments_lexer": "ipython3",
   "version": "3.6.4"
  }
 },
 "nbformat": 4,
 "nbformat_minor": 2
}
