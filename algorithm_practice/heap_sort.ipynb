{
 "cells": [
  {
   "cell_type": "markdown",
   "metadata": {},
   "source": [
    "##### 从大到小排序数组元素"
   ]
  },
  {
   "cell_type": "code",
   "execution_count": null,
   "metadata": {},
   "outputs": [
    {
     "name": "stdin",
     "output_type": "stream",
     "text": [
      "输入数组长度: 5\n",
      "输入第0个元素 1\n",
      "输入第1个元素 2\n",
      "输入第2个元素 3\n",
      "输入第3个元素 4\n",
      "输入第4个元素 5\n"
     ]
    },
    {
     "name": "stdout",
     "output_type": "stream",
     "text": [
      "[1, 2, 3, 4, 5]\n",
      "[0, 1, 2, 3, 4, 5]\n"
     ]
    }
   ],
   "source": [
    "def heapSort(array, N):\n",
    "    # 输入数组及其长度，使用array[0]存储最终结果，所以array的长度应该比元素个数多1\n",
    "    # 数组里实际有效元素只有N-1个\n",
    "    array.insert(0, 0)\n",
    "    print(array)\n",
    "    M = N + 1\n",
    "    buildMaxHeap(array, N) # 构建初始堆,这时最大元素在堆顶\n",
    "    i = N\n",
    "    while i>1:\n",
    "        swap(array, i)\n",
    "        adjustDown(array, 1, i)\n",
    "\n",
    "def buildMaxHeap(array, n):\n",
    "    #构建大顶堆,元素下标从1到n,所以有n/2个双亲节点。\n",
    "    k = int(n/2)\n",
    "    while k > 0 :\n",
    "        adjustDown(array, k, n)\n",
    "        k -= k\n",
    "\n",
    "def adjustDown(A, m, n):\n",
    "    # 调整数组A的第m个元素，array数组长度为n\n",
    "    A[0] = A[m] #暂存,\n",
    "    k = 2*m # 元素A[m]的左孩子\n",
    "    while k <= n:\n",
    "        if k<n and A[k]<A[k+1]:\n",
    "            k += 1\n",
    "        elif A[0] >= A[k]: break\n",
    "        else:\n",
    "            A[m] = A[k] # 更改A[m]的值为最大元素\n",
    "            # 接下来调整数组第k个元素\n",
    "        \n",
    "        k *= 2 # 考虑其左孩子\n",
    "    A[m] = A[0]\n",
    "\n",
    "def swap(a, i):\n",
    "#     print(a[1])\n",
    "    temp = a[i]\n",
    "    a[i] = a[1]\n",
    "    a[1] = temp\n",
    "\n",
    "def main():\n",
    "    N = int(input('输入数组长度:'))\n",
    "    A = [] #\n",
    "    for i in range(N):\n",
    "        A.append(int(input('输入第%d个元素'%i)))\n",
    "    print(A)\n",
    "    heapSort(A, N)\n",
    "    print(A)\n",
    "    \n",
    "    \n",
    "main()   \n",
    "    \n",
    "        \n",
    "        \n",
    "    \n",
    "        \n",
    "        "
   ]
  },
  {
   "cell_type": "code",
   "execution_count": null,
   "metadata": {},
   "outputs": [],
   "source": []
  }
 ],
 "metadata": {
  "kernelspec": {
   "display_name": "Python 3",
   "language": "python",
   "name": "python3"
  },
  "language_info": {
   "codemirror_mode": {
    "name": "ipython",
    "version": 3
   },
   "file_extension": ".py",
   "mimetype": "text/x-python",
   "name": "python",
   "nbconvert_exporter": "python",
   "pygments_lexer": "ipython3",
   "version": "3.6.4"
  }
 },
 "nbformat": 4,
 "nbformat_minor": 2
}
