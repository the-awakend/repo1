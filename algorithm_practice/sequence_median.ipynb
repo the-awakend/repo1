{
 "cells": [
  {
   "cell_type": "code",
   "execution_count": 6,
   "metadata": {},
   "outputs": [
    {
     "name": "stdin",
     "output_type": "stream",
     "text": [
      "请输入序列长度: 5\n",
      "请输入第一个长度为5的序列,以逗号分割: 1,3,5,7,8\n",
      "请输入第二个长度为5序列,以逗号分割: 2,3,4,5,6\n"
     ]
    },
    {
     "name": "stdout",
     "output_type": "stream",
     "text": [
      "4\n"
     ]
    }
   ],
   "source": [
    "def main():\n",
    "    n = int(input('请输入序列长度:'))\n",
    "    a = input('请输入第一个长度为%d的序列,以逗号分割:'%n).split(',')[0:5]\n",
    "    a = [int(a[i]) for i in range(len(a))]\n",
    "    b = input('请输入第二个长度为%d序列,以逗号分割:'%n).split(',')[0:5]\n",
    "    b = [int(b[i]) for i in range(len(b))]\n",
    "    print(median(n, a, b))\n",
    "        # try:\n",
    "        # n = int(input('请输入序列长度:'))\n",
    "        # except:\n",
    "        # print('输入类型错误')\n",
    "\n",
    "\n",
    "\n",
    "\n",
    "\n",
    "\n",
    "def median(n, a, b):\n",
    "    i, j = 0, 0\n",
    "    while(i+j < n-1):\n",
    "        if a[i] >= b[j]:\n",
    "            j += 1\n",
    "        else:\n",
    "            i += 1\n",
    "    result = [a[i], b[j]][a[i] > b[j]] #在python中，True等于1，False等于0\n",
    "    return result\n",
    "\n",
    "    \n",
    "main()"
   ]
  }
 ],
 "metadata": {
  "kernelspec": {
   "display_name": "Python 3",
   "language": "python",
   "name": "python3"
  },
  "language_info": {
   "codemirror_mode": {
    "name": "ipython",
    "version": 3
   },
   "file_extension": ".py",
   "mimetype": "text/x-python",
   "name": "python",
   "nbconvert_exporter": "python",
   "pygments_lexer": "ipython3",
   "version": "3.6.4"
  }
 },
 "nbformat": 4,
 "nbformat_minor": 2
}
