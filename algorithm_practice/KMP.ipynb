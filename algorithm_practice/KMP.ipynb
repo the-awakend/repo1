{
 "cells": [
  {
   "cell_type": "code",
   "execution_count": 91,
   "metadata": {},
   "outputs": [
    {
     "name": "stdout",
     "output_type": "stream",
     "text": [
      "S串长度: 10\n",
      "T串长度: 4\n",
      "T串的next函数值: [0, 0, 1, 1, 2]\n",
      "2\n"
     ]
    }
   ],
   "source": [
    "def index_KMP(r, p, pos):\n",
    "    # 求模式串p,在原串r中pos位置之后的匹配位置\n",
    "    i = pos\n",
    "    j = 1\n",
    "    while(i <= r[0] and j <= p[0]):\n",
    "\n",
    "        # 使用r[0]、p[0]存储串长度\n",
    "        if(r[i] == p[j] or j == 0):\n",
    "            # 当next(j)=0的时候，j=0，是一种特殊情况，需要i指针和j指针同时前进\n",
    "            j += 1\n",
    "            i += 1\n",
    "        else:\n",
    "            j = next_t[j] # 只回溯j指针\n",
    "    if j > p[0]:\n",
    "        # 模式串匹配完毕\n",
    "        return i - p[0] # 求位置。\n",
    "    else:\n",
    "        # 否则，肯定是i指针越界，匹配失败\n",
    "        return 0\n",
    "            \n",
    "def get_next(p, next_t):\n",
    "    # 用j表示当i失配时，要回溯到的位置\n",
    "    i = 1\n",
    "    next_t[1] = 0\n",
    "    j = 0\n",
    "    while i < p[0]:\n",
    "        if(j == 0 or p[i] == p[j]):\n",
    "            i += 1\n",
    "            j+= 1\n",
    "            next_t[i] = j\n",
    "        else:\n",
    "            j = next_t[j]\n",
    "            \n",
    "def get_nextval(p, next_t):\n",
    "    # 用j表示当i失配时，要回溯到的位置\n",
    "    i = 1\n",
    "    next_t[1] = 0\n",
    "    j = 0\n",
    "    while i < p[0]:\n",
    "        if(j == 0 or p[i] == p[j]):\n",
    "            i += 1\n",
    "            j+= 1\n",
    "            if(p[i] != p[j]):\n",
    "                next_t[i] = j\n",
    "            else:\n",
    "                next_t[i] = next_t[j]\n",
    "        else:\n",
    "            j = next_t[j]\n",
    "            \n",
    "\n",
    "def main():\n",
    "    s, t = 'ababcabcaa', 'babc'\n",
    "    s_array, t_array = list(s), list(t)\n",
    "    n, m = len(s), len(t)\n",
    "    s_array.insert(0, n)\n",
    "    t_array.insert(0, m)\n",
    "    print('S串长度:',s_array[0])\n",
    "    print('T串长度:',t_array[0])\n",
    "    global next_t\n",
    "    next_t = [0] * (m+1) # next_t[0]是无效数字\n",
    "    get_next(t_array, next_t)\n",
    "    print('T串的next函数值:',next_t)\n",
    "    \n",
    "#     print(type(t_array[0]))\n",
    "    result = index_KMP(s_array, t_array, 0)\n",
    "    print(result)\n",
    "main()\n",
    "\n"
   ]
  }
 ],
 "metadata": {
  "kernelspec": {
   "display_name": "Python 3",
   "language": "python",
   "name": "python3"
  },
  "language_info": {
   "codemirror_mode": {
    "name": "ipython",
    "version": 3
   },
   "file_extension": ".py",
   "mimetype": "text/x-python",
   "name": "python",
   "nbconvert_exporter": "python",
   "pygments_lexer": "ipython3",
   "version": "3.6.4"
  }
 },
 "nbformat": 4,
 "nbformat_minor": 2
}
